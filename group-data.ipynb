{
 "cells": [
  {
   "cell_type": "markdown",
   "id": "16afa515",
   "metadata": {},
   "source": [
    "This notebook takes the wind-speed CSVs and groups the results into 30 minute intervals, returning the maximum wind speed during that time. The first cell groups the data points by time and returns the max, then writes this data to a sub-folder named \"grouped\". The cell takes all of the grouped data, typically one file per day, then combines them into one csv file. "
   ]
  },
  {
   "cell_type": "code",
   "execution_count": 80,
   "id": "229f5487",
   "metadata": {},
   "outputs": [
    {
     "name": "stdout",
     "output_type": "stream",
     "text": [
      "/home/user/Documents/data/windspeed-20221113-134442.csv\n",
      "/home/user/Documents/data/windspeed-20221113-205946.csv\n",
      "/home/user/Documents/data/windspeed-20221114-093519.csv\n",
      "/home/user/Documents/data/windspeed-20221115-081204.csv\n"
     ]
    }
   ],
   "source": [
    "import pandas as pd\n",
    "import numpy as np\n",
    "import pprint\n",
    "import os,sys\n",
    "\n",
    "directory = 'data'\n",
    "# file_in='windspeed-20221113-205946.csv'\n",
    "# file_in_path='data/'+file_in\n",
    "absFilePath = os.path.abspath(sys.path[0])\n",
    "os.chdir( os.path.dirname(absFilePath) )\n",
    "# print(absFilePath)\n",
    "directory=os.path.join(absFilePath,directory)\n",
    "# print(directory)\n",
    "\n",
    "def convert_file(file_path_in):\n",
    "    print(file_path_in)\n",
    "    df = pd.read_csv(file_path_in)\n",
    "    df['time_stamp']= pd.to_datetime(df['time_stamp'])\n",
    "#     print(df)\n",
    "#     print(df.dtypes)\n",
    "    df_grouped = df.groupby([df.time_stamp.dt.floor('30Min')]).agg(wind_speed=('wind_speed','max')).reset_index()\n",
    "#     print(df_grouped)\n",
    "    file_base=os.path.basename(file_path_in)\n",
    "#     file_out_path='data/grouped/'+file_base\n",
    "    file_out_path=os.path.join(absFilePath,'data','grouped',file_base)\n",
    "    absFilePath\n",
    "    df_grouped.to_csv(file_out_path,index=False)\n",
    "    \n",
    "\n",
    " \n",
    "# iterate over files in that directory\n",
    "for filename in os.listdir(directory):\n",
    "    f = os.path.join(directory, filename)\n",
    "#     print(f)\n",
    "    # checking if it is a file\n",
    "    if os.path.isfile(f):\n",
    "        if f.endswith('.csv'):\n",
    "#             print(f)\n",
    "#             print(os.path.basename(f))\n",
    "            convert_file(f)"
   ]
  },
  {
   "cell_type": "code",
   "execution_count": 81,
   "id": "b39106f8",
   "metadata": {},
   "outputs": [
    {
     "name": "stdout",
     "output_type": "stream",
     "text": [
      "/home/user/Documents\n",
      "/home/user/Documents/data/grouped\n"
     ]
    }
   ],
   "source": [
    "import os\n",
    "import glob\n",
    "import pandas as pd\n",
    "output_file=\"wind-speed-combined.csv\"\n",
    "#set working directory\n",
    "absFilePath = os.path.abspath(sys.path[0])\n",
    "print(absFilePath)\n",
    "csv_path= os.path.join(absFilePath,'data','grouped') \n",
    "print(csv_path)\n",
    "os.chdir(csv_path)\n",
    "\n",
    "\n",
    "if os.path.exists(output_file):\n",
    "  os.remove(output_file)\n",
    "\n",
    "\n",
    "#find all csv files in the folder\n",
    "#use glob pattern matching -> extension = 'csv'\n",
    "#save result in list -> all_filenames\n",
    "extension = 'csv'\n",
    "all_filenames = [i for i in glob.glob('*.{}'.format(extension))]\n",
    "#print(all_filenames)\n",
    "\n",
    "#combine all files in the list\n",
    "combined_csv = pd.concat([pd.read_csv(f) for f in all_filenames ])\n",
    "#export to csv\n",
    "combined_csv.to_csv(output_file, index=False, encoding='utf-8-sig')"
   ]
  },
  {
   "cell_type": "code",
   "execution_count": null,
   "id": "c5c15e80",
   "metadata": {},
   "outputs": [],
   "source": []
  }
 ],
 "metadata": {
  "kernelspec": {
   "display_name": "Python 3 (ipykernel)",
   "language": "python",
   "name": "python3"
  },
  "language_info": {
   "codemirror_mode": {
    "name": "ipython",
    "version": 3
   },
   "file_extension": ".py",
   "mimetype": "text/x-python",
   "name": "python",
   "nbconvert_exporter": "python",
   "pygments_lexer": "ipython3",
   "version": "3.9.2"
  }
 },
 "nbformat": 4,
 "nbformat_minor": 5
}
